{
 "cells": [
  {
   "cell_type": "code",
   "execution_count": 2,
   "metadata": {},
   "outputs": [],
   "source": [
    "import pandas as pd\n",
    "import time"
   ]
  },
  {
   "cell_type": "code",
   "execution_count": 3,
   "metadata": {},
   "outputs": [],
   "source": [
    "from selenium import webdriver\n",
    "from selenium.webdriver.chrome.service import Service\n",
    "from selenium.webdriver.common.keys import Keys\n",
    "from selenium.webdriver.common.by import By"
   ]
  },
  {
   "cell_type": "code",
   "execution_count": 9,
   "metadata": {},
   "outputs": [],
   "source": [
    "service = Service()\n",
    "options = webdriver.ChromeOptions()\n",
    "driver = webdriver.Chrome(service= service, options= options)\n",
    "topic = \"California\"\n",
    "try:\n",
    "    driver.maximize_window()\n",
    "    driver.get('https://www.latimes.com/')\n",
    "    time.sleep(5)\n",
    "    driver.execute_script('window.scrollBy(0, 900);')\n",
    "    time.sleep(3)\n",
    "    driver.find_element(By.CSS_SELECTOR, '[data-element=\"search-button\"]').click()\n",
    "    time.sleep(3)\n",
    "    searchbar = driver.find_element(By.CSS_SELECTOR, '[data-element=\"search-form-input\"]')\n",
    "    searchbar.send_keys('Gold')\n",
    "    searchbar.send_keys(Keys.ENTER)\n",
    "    time.sleep(3)\n",
    "    topics = driver.find_elements(By.CLASS_NAME, 'checkbox-input-label')\n",
    "    see_all = driver.find_elements(By.CSS_SELECTOR, '[data-toggle-trigger=\"see-all\"]')\n",
    "    for button in see_all:\n",
    "        button.click()\n",
    "    time.sleep(10)\n",
    "    for i in topics:\n",
    "        if (i.text == topic):\n",
    "            i.click()\n",
    "            break\n",
    "    time.sleep(10)\n",
    "\n",
    "finally:\n",
    "    driver.quit()"
   ]
  }
 ],
 "metadata": {
  "kernelspec": {
   "display_name": "Python 3",
   "language": "python",
   "name": "python3"
  },
  "language_info": {
   "codemirror_mode": {
    "name": "ipython",
    "version": 3
   },
   "file_extension": ".py",
   "mimetype": "text/x-python",
   "name": "python",
   "nbconvert_exporter": "python",
   "pygments_lexer": "ipython3",
   "version": "3.10.12"
  }
 },
 "nbformat": 4,
 "nbformat_minor": 2
}
